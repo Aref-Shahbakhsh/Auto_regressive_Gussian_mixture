{
  "cells": [
    {
      "cell_type": "code",
      "execution_count": 1,
      "metadata": {
        "colab": {
          "base_uri": "https://localhost:8080/"
        },
        "id": "FCD1dKyBcSJH",
        "outputId": "ea2d4e43-210b-4943-c0fb-72f92f740954"
      },
      "outputs": [
        {
          "output_type": "stream",
          "name": "stdout",
          "text": [
            "Requirement already satisfied: torch in /usr/local/lib/python3.11/dist-packages (2.6.0+cu124)\n",
            "Requirement already satisfied: filelock in /usr/local/lib/python3.11/dist-packages (from torch) (3.18.0)\n",
            "Requirement already satisfied: typing-extensions>=4.10.0 in /usr/local/lib/python3.11/dist-packages (from torch) (4.14.0)\n",
            "Requirement already satisfied: networkx in /usr/local/lib/python3.11/dist-packages (from torch) (3.5)\n",
            "Requirement already satisfied: jinja2 in /usr/local/lib/python3.11/dist-packages (from torch) (3.1.6)\n",
            "Requirement already satisfied: fsspec in /usr/local/lib/python3.11/dist-packages (from torch) (2025.3.2)\n",
            "Collecting nvidia-cuda-nvrtc-cu12==12.4.127 (from torch)\n",
            "  Downloading nvidia_cuda_nvrtc_cu12-12.4.127-py3-none-manylinux2014_x86_64.whl.metadata (1.5 kB)\n",
            "Collecting nvidia-cuda-runtime-cu12==12.4.127 (from torch)\n",
            "  Downloading nvidia_cuda_runtime_cu12-12.4.127-py3-none-manylinux2014_x86_64.whl.metadata (1.5 kB)\n",
            "Collecting nvidia-cuda-cupti-cu12==12.4.127 (from torch)\n",
            "  Downloading nvidia_cuda_cupti_cu12-12.4.127-py3-none-manylinux2014_x86_64.whl.metadata (1.6 kB)\n",
            "Collecting nvidia-cudnn-cu12==9.1.0.70 (from torch)\n",
            "  Downloading nvidia_cudnn_cu12-9.1.0.70-py3-none-manylinux2014_x86_64.whl.metadata (1.6 kB)\n",
            "Collecting nvidia-cublas-cu12==12.4.5.8 (from torch)\n",
            "  Downloading nvidia_cublas_cu12-12.4.5.8-py3-none-manylinux2014_x86_64.whl.metadata (1.5 kB)\n",
            "Collecting nvidia-cufft-cu12==11.2.1.3 (from torch)\n",
            "  Downloading nvidia_cufft_cu12-11.2.1.3-py3-none-manylinux2014_x86_64.whl.metadata (1.5 kB)\n",
            "Collecting nvidia-curand-cu12==10.3.5.147 (from torch)\n",
            "  Downloading nvidia_curand_cu12-10.3.5.147-py3-none-manylinux2014_x86_64.whl.metadata (1.5 kB)\n",
            "Collecting nvidia-cusolver-cu12==11.6.1.9 (from torch)\n",
            "  Downloading nvidia_cusolver_cu12-11.6.1.9-py3-none-manylinux2014_x86_64.whl.metadata (1.6 kB)\n",
            "Collecting nvidia-cusparse-cu12==12.3.1.170 (from torch)\n",
            "  Downloading nvidia_cusparse_cu12-12.3.1.170-py3-none-manylinux2014_x86_64.whl.metadata (1.6 kB)\n",
            "Requirement already satisfied: nvidia-cusparselt-cu12==0.6.2 in /usr/local/lib/python3.11/dist-packages (from torch) (0.6.2)\n",
            "Requirement already satisfied: nvidia-nccl-cu12==2.21.5 in /usr/local/lib/python3.11/dist-packages (from torch) (2.21.5)\n",
            "Requirement already satisfied: nvidia-nvtx-cu12==12.4.127 in /usr/local/lib/python3.11/dist-packages (from torch) (12.4.127)\n",
            "Collecting nvidia-nvjitlink-cu12==12.4.127 (from torch)\n",
            "  Downloading nvidia_nvjitlink_cu12-12.4.127-py3-none-manylinux2014_x86_64.whl.metadata (1.5 kB)\n",
            "Requirement already satisfied: triton==3.2.0 in /usr/local/lib/python3.11/dist-packages (from torch) (3.2.0)\n",
            "Requirement already satisfied: sympy==1.13.1 in /usr/local/lib/python3.11/dist-packages (from torch) (1.13.1)\n",
            "Requirement already satisfied: mpmath<1.4,>=1.1.0 in /usr/local/lib/python3.11/dist-packages (from sympy==1.13.1->torch) (1.3.0)\n",
            "Requirement already satisfied: MarkupSafe>=2.0 in /usr/local/lib/python3.11/dist-packages (from jinja2->torch) (3.0.2)\n",
            "Downloading nvidia_cublas_cu12-12.4.5.8-py3-none-manylinux2014_x86_64.whl (363.4 MB)\n",
            "\u001b[2K   \u001b[90m━━━━━━━━━━━━━━━━━━━━━━━━━━━━━━━━━━━━━━━━\u001b[0m \u001b[32m363.4/363.4 MB\u001b[0m \u001b[31m4.2 MB/s\u001b[0m eta \u001b[36m0:00:00\u001b[0m\n",
            "\u001b[?25hDownloading nvidia_cuda_cupti_cu12-12.4.127-py3-none-manylinux2014_x86_64.whl (13.8 MB)\n",
            "\u001b[2K   \u001b[90m━━━━━━━━━━━━━━━━━━━━━━━━━━━━━━━━━━━━━━━━\u001b[0m \u001b[32m13.8/13.8 MB\u001b[0m \u001b[31m86.2 MB/s\u001b[0m eta \u001b[36m0:00:00\u001b[0m\n",
            "\u001b[?25hDownloading nvidia_cuda_nvrtc_cu12-12.4.127-py3-none-manylinux2014_x86_64.whl (24.6 MB)\n",
            "\u001b[2K   \u001b[90m━━━━━━━━━━━━━━━━━━━━━━━━━━━━━━━━━━━━━━━━\u001b[0m \u001b[32m24.6/24.6 MB\u001b[0m \u001b[31m63.1 MB/s\u001b[0m eta \u001b[36m0:00:00\u001b[0m\n",
            "\u001b[?25hDownloading nvidia_cuda_runtime_cu12-12.4.127-py3-none-manylinux2014_x86_64.whl (883 kB)\n",
            "\u001b[2K   \u001b[90m━━━━━━━━━━━━━━━━━━━━━━━━━━━━━━━━━━━━━━━━\u001b[0m \u001b[32m883.7/883.7 kB\u001b[0m \u001b[31m49.1 MB/s\u001b[0m eta \u001b[36m0:00:00\u001b[0m\n",
            "\u001b[?25hDownloading nvidia_cudnn_cu12-9.1.0.70-py3-none-manylinux2014_x86_64.whl (664.8 MB)\n",
            "\u001b[2K   \u001b[90m━━━━━━━━━━━━━━━━━━━━━━━━━━━━━━━━━━━━━━━━\u001b[0m \u001b[32m664.8/664.8 MB\u001b[0m \u001b[31m1.2 MB/s\u001b[0m eta \u001b[36m0:00:00\u001b[0m\n",
            "\u001b[?25hDownloading nvidia_cufft_cu12-11.2.1.3-py3-none-manylinux2014_x86_64.whl (211.5 MB)\n",
            "\u001b[2K   \u001b[90m━━━━━━━━━━━━━━━━━━━━━━━━━━━━━━━━━━━━━━━━\u001b[0m \u001b[32m211.5/211.5 MB\u001b[0m \u001b[31m5.1 MB/s\u001b[0m eta \u001b[36m0:00:00\u001b[0m\n",
            "\u001b[?25hDownloading nvidia_curand_cu12-10.3.5.147-py3-none-manylinux2014_x86_64.whl (56.3 MB)\n",
            "\u001b[2K   \u001b[90m━━━━━━━━━━━━━━━━━━━━━━━━━━━━━━━━━━━━━━━━\u001b[0m \u001b[32m56.3/56.3 MB\u001b[0m \u001b[31m15.9 MB/s\u001b[0m eta \u001b[36m0:00:00\u001b[0m\n",
            "\u001b[?25hDownloading nvidia_cusolver_cu12-11.6.1.9-py3-none-manylinux2014_x86_64.whl (127.9 MB)\n",
            "\u001b[2K   \u001b[90m━━━━━━━━━━━━━━━━━━━━━━━━━━━━━━━━━━━━━━━━\u001b[0m \u001b[32m127.9/127.9 MB\u001b[0m \u001b[31m7.8 MB/s\u001b[0m eta \u001b[36m0:00:00\u001b[0m\n",
            "\u001b[?25hDownloading nvidia_cusparse_cu12-12.3.1.170-py3-none-manylinux2014_x86_64.whl (207.5 MB)\n",
            "\u001b[2K   \u001b[90m━━━━━━━━━━━━━━━━━━━━━━━━━━━━━━━━━━━━━━━━\u001b[0m \u001b[32m207.5/207.5 MB\u001b[0m \u001b[31m6.1 MB/s\u001b[0m eta \u001b[36m0:00:00\u001b[0m\n",
            "\u001b[?25hDownloading nvidia_nvjitlink_cu12-12.4.127-py3-none-manylinux2014_x86_64.whl (21.1 MB)\n",
            "\u001b[2K   \u001b[90m━━━━━━━━━━━━━━━━━━━━━━━━━━━━━━━━━━━━━━━━\u001b[0m \u001b[32m21.1/21.1 MB\u001b[0m \u001b[31m69.7 MB/s\u001b[0m eta \u001b[36m0:00:00\u001b[0m\n",
            "\u001b[?25hInstalling collected packages: nvidia-nvjitlink-cu12, nvidia-curand-cu12, nvidia-cufft-cu12, nvidia-cuda-runtime-cu12, nvidia-cuda-nvrtc-cu12, nvidia-cuda-cupti-cu12, nvidia-cublas-cu12, nvidia-cusparse-cu12, nvidia-cudnn-cu12, nvidia-cusolver-cu12\n",
            "  Attempting uninstall: nvidia-nvjitlink-cu12\n",
            "    Found existing installation: nvidia-nvjitlink-cu12 12.5.82\n",
            "    Uninstalling nvidia-nvjitlink-cu12-12.5.82:\n",
            "      Successfully uninstalled nvidia-nvjitlink-cu12-12.5.82\n",
            "  Attempting uninstall: nvidia-curand-cu12\n",
            "    Found existing installation: nvidia-curand-cu12 10.3.6.82\n",
            "    Uninstalling nvidia-curand-cu12-10.3.6.82:\n",
            "      Successfully uninstalled nvidia-curand-cu12-10.3.6.82\n",
            "  Attempting uninstall: nvidia-cufft-cu12\n",
            "    Found existing installation: nvidia-cufft-cu12 11.2.3.61\n",
            "    Uninstalling nvidia-cufft-cu12-11.2.3.61:\n",
            "      Successfully uninstalled nvidia-cufft-cu12-11.2.3.61\n",
            "  Attempting uninstall: nvidia-cuda-runtime-cu12\n",
            "    Found existing installation: nvidia-cuda-runtime-cu12 12.5.82\n",
            "    Uninstalling nvidia-cuda-runtime-cu12-12.5.82:\n",
            "      Successfully uninstalled nvidia-cuda-runtime-cu12-12.5.82\n",
            "  Attempting uninstall: nvidia-cuda-nvrtc-cu12\n",
            "    Found existing installation: nvidia-cuda-nvrtc-cu12 12.5.82\n",
            "    Uninstalling nvidia-cuda-nvrtc-cu12-12.5.82:\n",
            "      Successfully uninstalled nvidia-cuda-nvrtc-cu12-12.5.82\n",
            "  Attempting uninstall: nvidia-cuda-cupti-cu12\n",
            "    Found existing installation: nvidia-cuda-cupti-cu12 12.5.82\n",
            "    Uninstalling nvidia-cuda-cupti-cu12-12.5.82:\n",
            "      Successfully uninstalled nvidia-cuda-cupti-cu12-12.5.82\n",
            "  Attempting uninstall: nvidia-cublas-cu12\n",
            "    Found existing installation: nvidia-cublas-cu12 12.5.3.2\n",
            "    Uninstalling nvidia-cublas-cu12-12.5.3.2:\n",
            "      Successfully uninstalled nvidia-cublas-cu12-12.5.3.2\n",
            "  Attempting uninstall: nvidia-cusparse-cu12\n",
            "    Found existing installation: nvidia-cusparse-cu12 12.5.1.3\n",
            "    Uninstalling nvidia-cusparse-cu12-12.5.1.3:\n",
            "      Successfully uninstalled nvidia-cusparse-cu12-12.5.1.3\n",
            "  Attempting uninstall: nvidia-cudnn-cu12\n",
            "    Found existing installation: nvidia-cudnn-cu12 9.3.0.75\n",
            "    Uninstalling nvidia-cudnn-cu12-9.3.0.75:\n",
            "      Successfully uninstalled nvidia-cudnn-cu12-9.3.0.75\n",
            "  Attempting uninstall: nvidia-cusolver-cu12\n",
            "    Found existing installation: nvidia-cusolver-cu12 11.6.3.83\n",
            "    Uninstalling nvidia-cusolver-cu12-11.6.3.83:\n",
            "      Successfully uninstalled nvidia-cusolver-cu12-11.6.3.83\n",
            "Successfully installed nvidia-cublas-cu12-12.4.5.8 nvidia-cuda-cupti-cu12-12.4.127 nvidia-cuda-nvrtc-cu12-12.4.127 nvidia-cuda-runtime-cu12-12.4.127 nvidia-cudnn-cu12-9.1.0.70 nvidia-cufft-cu12-11.2.1.3 nvidia-curand-cu12-10.3.5.147 nvidia-cusolver-cu12-11.6.1.9 nvidia-cusparse-cu12-12.3.1.170 nvidia-nvjitlink-cu12-12.4.127\n"
          ]
        }
      ],
      "source": [
        "pip install torch"
      ]
    },
    {
      "cell_type": "code",
      "execution_count": 2,
      "metadata": {
        "id": "8IX9rRjMio67"
      },
      "outputs": [],
      "source": [
        "import torch.nn as nn\n",
        "import numpy as np\n",
        "import torch\n",
        "class AutoRegressive(nn.Module):\n",
        "  def __init__(self, input_size):\n",
        "    super(AutoRegressive,self).__init__()\n",
        "    self.input_size = input_size\n",
        "    self.probability_list = nn.ModuleList().to('cuda')\n",
        "    self.sigmoid = torch.nn.Sigmoid().to('cuda')\n",
        "\n",
        "\n",
        "\n",
        "    self.classifiers0 = nn.ModuleList().to('cuda').extend([ nn.Sequential(\n",
        "        nn.Linear(1,32)\n",
        "        ,\n",
        "        nn.ReLU()\n",
        "        ,\n",
        "        nn.Linear(32,2)\n",
        "        ).to('cuda')\n",
        ",\n",
        "\n",
        "        nn.Sequential(\n",
        "        nn.Linear(1,32)\n",
        "        ,\n",
        "        nn.ReLU()\n",
        "        ,\n",
        "        nn.Linear(32,2)\n",
        "        ).to('cuda')\n",
        ",\n",
        "        nn.Sequential(\n",
        "        nn.Linear(1,32)\n",
        "        ,\n",
        "        nn.ReLU()\n",
        "        ,\n",
        "        nn.Linear(32,2)\n",
        "        ).to('cuda')\n",
        "    ]\n",
        "    )\n",
        "\n",
        "    self.probability_list.append(self.classifiers0)\n",
        "\n",
        "\n",
        "    for i in range(1 , self.input_size + 1):\n",
        "      classifiers2 =  nn.ModuleList().to('cuda').extend([\n",
        "          nn.Sequential(\n",
        "          nn.Linear(i,32)\n",
        "          ,\n",
        "          nn.ReLU()\n",
        "          ,\n",
        "          nn.Linear(32,2)\n",
        "          ).to('cuda')\n",
        "  ,\n",
        "\n",
        "          nn.Sequential(\n",
        "          nn.Linear(i,32)\n",
        "          ,\n",
        "          nn.ReLU()\n",
        "          ,\n",
        "          nn.Linear(32,2)\n",
        "          ).to('cuda')\n",
        "  ,\n",
        "          nn.Sequential(\n",
        "          nn.Linear(i,32)\n",
        "          ,\n",
        "          nn.ReLU()\n",
        "          ,\n",
        "          nn.Linear(32,2)\n",
        "          ).to('cuda')\n",
        "          ] )\n",
        "      self.probability_list.append(classifiers2)\n",
        "\n",
        "  def forward(self, X):\n",
        "    batch_size = X.shape[0]\n",
        "    seq_length = X.shape[1]  # Should be 784 for MNIST (28x28)\n",
        "    middle_mean = torch.zeros(batch_size,seq_length , 3).to(X.device)\n",
        "    middle_variance = torch.zeros(batch_size, seq_length , 3).to(X.device)\n",
        "\n",
        "\n",
        "    # Compute probabilities sequentially\n",
        "    for i in range(seq_length):\n",
        "        # Get the i-th probability module (assuming probability_list has seq_length elements)\n",
        "        prob_module = self.probability_list[i]\n",
        "\n",
        "        # Use all previous pixels (X[:, :i]) as input\n",
        "        # Need to reshape to (batch_size, i) since linear layers expect 2D input\n",
        "        prev_pixels = X[:, :i] if i > 0 else X[:,:1].to(X.device)\n",
        "\n",
        "        # Compute probability for current pixel\n",
        "        for mixture_component in range(3):\n",
        "\n",
        "          predicted_parameters = prob_module[mixture_component](prev_pixels)\n",
        "          middle_mean[:, i ,mixture_component ] , middle_variance[:, i , mixture_component] = predicted_parameters[: , 0] , self.sigmoid(predicted_parameters[: , 1])\n",
        "        # teta = prob_module(prev_pixels)\n",
        "\n",
        "        # Store the probability\n",
        "        # middle_mean[:, i] = mean.squeeze(-1)\n",
        "        # middle_variance[:, i] = variance.squeeze(-1)\n",
        "\n",
        "\n",
        "\n",
        "    # log_probs = X * torch.log(middle_output) + (1 - X) * torch.log(1 - middle_output)\n",
        "    gussian_loss = 0\n",
        "    for component in range(3):\n",
        "      temp = X - middle_mean[:,:,component]\n",
        "      gussian_loss = gussian_loss + torch.div(torch.mul(temp , temp) , middle_variance[:,:,component])\n",
        "    # output = torch.sum(log_probs, dim=1)\n",
        "    output =  torch.sum(gussian_loss, dim=1)\n",
        "\n",
        "    return torch.sum(output)\n",
        "\n",
        "\n",
        "\n",
        "\n"
      ]
    },
    {
      "cell_type": "code",
      "execution_count": 3,
      "metadata": {
        "id": "jQbWpwlNoejl"
      },
      "outputs": [],
      "source": [
        "from torchvision import datasets, transforms\n",
        "import matplotlib.pyplot as plt\n",
        "\n",
        "# Define a transform to normalize the data\n",
        "# transform = transforms.Compose([transforms.Grayscale(num_output_channels=1), transforms.ToTensor()])\n",
        "transform = transforms.Compose([ transforms.ToTensor()])\n",
        "\n",
        "# Download and load the training data\n",
        "train_data = datasets.MNIST(root='./data', train=True, download=True, transform=transform)\n",
        "test_data = datasets.MNIST(root='./data', train=False, download=True, transform=transform)\n",
        "# Create data loaders\n",
        "train_loader = torch.utils.data.DataLoader(train_data, batch_size=20000, shuffle=True)\n",
        "test_loader = torch.utils.data.DataLoader(test_data, batch_size=15000, shuffle=True)\n",
        "\n"
      ]
    },
    {
      "cell_type": "code",
      "execution_count": null,
      "metadata": {
        "colab": {
          "base_uri": "https://localhost:8080/"
        },
        "id": "qsdsWlrSolDN",
        "outputId": "83b4800b-0335-418d-a99d-27381e7c4498"
      },
      "outputs": [
        {
          "output_type": "stream",
          "name": "stdout",
          "text": [
            "epoch: 0\n",
            "loss: tensor(10199425., device='cuda:0', grad_fn=<DivBackward0>)\n",
            "epoch: 1\n"
          ]
        }
      ],
      "source": [
        "Autoregressive_model = AutoRegressive(28*28).to('cuda')\n",
        "optimizer = torch.optim.Adam(Autoregressive_model.parameters(), lr=0.001)\n",
        "epochs = 25\n",
        "for epoch in range(epochs):\n",
        "  print('epoch:',epoch)\n",
        "  train_loss = 0\n",
        "  Autoregressive_model.train()\n",
        "  for batch in train_loader:\n",
        "    optimizer.zero_grad()\n",
        "    X, y = batch\n",
        "    X = X.view(X.shape[0], -1)\n",
        "    X = X.to('cuda')\n",
        "    y = y.to('cuda')\n",
        "    output = Autoregressive_model(X)\n",
        "    loss = output\n",
        "    train_loss = train_loss + loss\n",
        "    loss.backward()\n",
        "    optimizer.step()\n",
        "  print('loss:',train_loss/len(train_loader))\n",
        "\n"
      ]
    },
    {
      "cell_type": "code",
      "execution_count": null,
      "metadata": {
        "id": "F7PZVd9kqHTk"
      },
      "outputs": [],
      "source": [
        "import matplotlib.pyplot as plt\n",
        "def visualize_samples(samples, nrows=4, ncols=4):\n",
        "    \"\"\"\n",
        "    Visualize generated samples in a grid\n",
        "    samples: tensor of shape (num_samples, 1, 28, 28)\n",
        "    \"\"\"\n",
        "    fig, axes = plt.subplots(nrows, ncols, figsize=(10, 10))\n",
        "    samples = samples.squeeze().detach().cpu().numpy()  # remove channel dim and convert to numpy\n",
        "\n",
        "    for i, ax in enumerate(axes.flat):\n",
        "        if i < len(samples):\n",
        "            ax.imshow(samples[i], cmap='gray')\n",
        "        ax.axis('off')\n",
        "    plt.tight_layout()\n",
        "    plt.show()\n"
      ]
    },
    {
      "cell_type": "code",
      "execution_count": null,
      "metadata": {
        "id": "74aVLmf8p5Fu"
      },
      "outputs": [],
      "source": [
        "from torch.distributions import Normal\n",
        "import random\n",
        "def get_sample(model , sample_number):\n",
        "  model.eval()\n",
        "  with torch.no_grad():\n",
        "    samples = torch.zeros(sample_number,28*28).to('cuda')\n",
        "    for i in range(sample_number):\n",
        "      k = random.randint(0,2)\n",
        "      x0 = torch.rand(1).to('cuda')\n",
        "      predicted_values = model.probability_list[0][k](x0)\n",
        "      previous = Normal(predicted_values[0] , torch.sigmoid(predicted_values[1]) ).sample()\n",
        "\n",
        "      samples[i,0] = previous\n",
        "      for j in range(28*28):\n",
        "        if j == 0:\n",
        "          continue\n",
        "        previous = samples[i,:j]\n",
        "        k = random.randint(0,2)\n",
        "        predicted_values = model.probability_list[j][k](previous)\n",
        "        samples[i,j] = Normal(predicted_values[0] , torch.sigmoid(predicted_values[1]) ).sample()\n",
        "    # samples =  torch.bernoulli(samples)\n",
        "    return samples.view(sample_number, 1, 28, 28)\n",
        "\n",
        "\n"
      ]
    },
    {
      "cell_type": "code",
      "execution_count": null,
      "metadata": {
        "id": "IOsvqPvT8Mh8"
      },
      "outputs": [],
      "source": [
        "samples = get_sample(Autoregressive_model,10)\n",
        "visualize_samples(samples)"
      ]
    },
    {
      "cell_type": "code",
      "source": [
        "samples = get_sample(Autoregressive_model,10)\n",
        "visualize_samples(samples)"
      ],
      "metadata": {
        "colab": {
          "base_uri": "https://localhost:8080/",
          "height": 1000
        },
        "id": "EwhliaAM6wib",
        "outputId": "bf58e63a-a2a6-40c5-b79e-b1985ad732a7"
      },
      "execution_count": 13,
      "outputs": [
        {
          "output_type": "display_data",
          "data": {
            "text/plain": [
              "<Figure size 1000x1000 with 16 Axes>"
            ],
            "image/png": "[encoded data removed]"
          },
          "metadata": {}
        }
      ]
    }
  ],
  "metadata": {
    "accelerator": "GPU",
    "colab": {
      "gpuType": "T4",
      "provenance": []
    },
    "kernelspec": {
      "display_name": "Python 3",
      "name": "python3"
    },
    "language_info": {
      "name": "python"
    }
  },
  "nbformat": 4,
  "nbformat_minor": 0
}